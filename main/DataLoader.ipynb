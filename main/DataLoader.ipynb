{
 "cells": [
  {
   "cell_type": "markdown",
   "id": "a567018b",
   "metadata": {},
   "source": [
    "# IMPORT\n"
   ]
  },
  {
   "cell_type": "code",
   "execution_count": 2,
   "id": "f1fb6126",
   "metadata": {
    "ExecuteTime": {
     "end_time": "2025-09-20T16:53:20.599090Z",
     "start_time": "2025-09-20T16:53:20.569524Z"
    }
   },
   "outputs": [],
   "source": [
    "from langchain_google_genai import ChatGoogleGenerativeAI\n",
    "from langchain.prompts import ChatPromptTemplate\n",
    "\n",
    "from dotenv import load_dotenv\n",
    "import os\n",
    "\n",
    "load_dotenv()\n",
    "\n",
    "llm_model = ChatGoogleGenerativeAI(model=\"gemini-1.5-flash\", temperature=0.7 , api_key=os.environ[(\"GOOGLE_API_KEY\")])\n",
    "prompt_templete = ChatPromptTemplate.from_messages([(\"system\",\"Answer the given question, {user_input} in short form max length is 10 words and here is some info {context}\")])\n",
    "\n"
   ]
  },
  {
   "cell_type": "markdown",
   "id": "73f0037f",
   "metadata": {},
   "source": [
    "# DATA LOADER"
   ]
  },
  {
   "cell_type": "code",
   "execution_count": null,
   "id": "e6081cb7",
   "metadata": {
    "ExecuteTime": {
     "end_time": "2025-09-20T16:53:23.260712Z",
     "start_time": "2025-09-20T16:53:21.180822Z"
    }
   },
   "outputs": [
    {
     "name": "stdout",
     "output_type": "stream",
     "text": [
      "Insufficient information provided.  Need subject list.\n"
     ]
    }
   ],
   "source": [
    "from langchain_community.document_loaders import JSONLoader\n",
    "\n",
    "loader = JSONLoader(\n",
    "    file_path=\"Resource/Credits.json\", # Corrected file path\n",
    "    jq_schema=\".[]\",\n",
    "    text_content=False\n",
    ")\n",
    "docs = loader.load()\n",
    "\n",
    "prompt = prompt_templete.format_prompt(user_input=\"total subjects of 3 credits\",context=docs).to_string()\n",
    "    \n",
    "result = llm_model.invoke(prompt) \n",
    "print(result.content)"
   ]
  },
  {
   "cell_type": "code",
   "execution_count": 8,
   "id": "d0f54ad0",
   "metadata": {
    "ExecuteTime": {
     "end_time": "2025-09-20T16:55:01.088602Z",
     "start_time": "2025-09-20T16:54:57.578371Z"
    }
   },
   "outputs": [
    {
     "name": "stdout",
     "output_type": "stream",
     "text": [
      "LLM's Response:\n",
      "The provided JSON data does not contain an entry for subject code \"MA3591\".  Therefore, the credits for MA3591 cannot be determined from this data.\n"
     ]
    }
   ],
   "source": [
    "from langchain_community.document_loaders import JSONLoader\n",
    "from langchain.prompts import PromptTemplate\n",
    "\n",
    "\n",
    "loader = JSONLoader(\n",
    "    file_path=\"Resource/Credits.json\",\n",
    "    jq_schema=\".[]\",\n",
    "    text_content=False\n",
    ")\n",
    "docs = loader.load()\n",
    "\n",
    "\n",
    "prompt = PromptTemplate(\n",
    "    input_variables=[\"user_input\", \"context\"],\n",
    "    template=\"\"\"\n",
    "Based on the following JSON data, please perform the requested task.\n",
    "\n",
    "**JSON Data:**\n",
    "{context}\n",
    "\n",
    "**Task:**\n",
    "{user_input}\n",
    "\n",
    "**Your Answer:**\n",
    "\"\"\"\n",
    ")\n",
    "\n",
    "# --- 3. Format the Prompt with Your Specific Request ---\n",
    "user_question = \"Credits for MA3561\"\n",
    "formatted_prompt = prompt.format(user_input=user_question, context=docs)\n",
    "\n",
    "\n",
    "result = llm_model.invoke(formatted_prompt)\n",
    "\n",
    "# --- 5. Print the Result ---\n",
    "print(\"LLM's Response:\")\n",
    "print(result.content)"
   ]
  },
  {
   "cell_type": "code",
   "execution_count": 7,
   "id": "c9fbefe6",
   "metadata": {
    "ExecuteTime": {
     "end_time": "2025-09-20T16:54:40.522500Z",
     "start_time": "2025-09-20T16:54:40.512115Z"
    }
   },
   "outputs": [
    {
     "data": {
      "text/plain": [
       "AIMessage(content='The provided JSON data does not contain an entry for subject code \"MA3591\".  Therefore, the credits for MA3591 cannot be determined from this data.', additional_kwargs={}, response_metadata={'prompt_feedback': {'block_reason': 0, 'safety_ratings': []}, 'finish_reason': 'STOP', 'model_name': 'gemini-1.5-flash', 'safety_ratings': []}, id='run--4013ef23-46d5-4841-b58d-0da2cd7bc201-0', usage_metadata={'input_tokens': 55402, 'output_tokens': 38, 'total_tokens': 55440, 'input_token_details': {'cache_read': 0}})"
      ]
     },
     "execution_count": 7,
     "metadata": {},
     "output_type": "execute_result"
    }
   ],
   "source": [
    "# data.load()\n",
    "\n",
    "result"
   ]
  }
 ],
 "metadata": {
  "kernelspec": {
   "display_name": "venv (3.11.9)",
   "language": "python",
   "name": "python3"
  },
  "language_info": {
   "codemirror_mode": {
    "name": "ipython",
    "version": 3
   },
   "file_extension": ".py",
   "mimetype": "text/x-python",
   "name": "python",
   "nbconvert_exporter": "python",
   "pygments_lexer": "ipython3",
   "version": "3.11.9"
  }
 },
 "nbformat": 4,
 "nbformat_minor": 5
}

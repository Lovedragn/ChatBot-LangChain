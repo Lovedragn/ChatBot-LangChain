{
 "cells": [
  {
   "cell_type": "markdown",
   "id": "10aba4b7",
   "metadata": {},
   "source": [
    "# IMPORT"
   ]
  },
  {
   "cell_type": "markdown",
   "id": "1403b288",
   "metadata": {},
   "source": [
    "Basic prompts"
   ]
  },
  {
   "cell_type": "code",
   "execution_count": 121,
   "id": "0e7df472",
   "metadata": {},
   "outputs": [],
   "source": [
    "from langchain_google_genai import ChatGoogleGenerativeAI\n",
    "from langchain.prompts import ChatPromptTemplate , SystemMessagePromptTemplate , HumanMessagePromptTemplate \n",
    "from langchain.document_loaders import TextLoader"
   ]
  },
  {
   "cell_type": "code",
   "execution_count": 122,
   "id": "a12acca0",
   "metadata": {},
   "outputs": [],
   "source": [
    "import os\n",
    "from dotenv import load_dotenv\n",
    "\n",
    "load_dotenv()\n",
    "llm_model = ChatGoogleGenerativeAI(api_key=os.environ[(\"GOOGLE_API_KEY\")],temperature=0.7,model=\"gemini-2.5-flash\")"
   ]
  },
  {
   "cell_type": "code",
   "execution_count": 123,
   "id": "db276d98",
   "metadata": {},
   "outputs": [],
   "source": [
    "from langchain.chains import LLMChain\n",
    "beginning_prompt = ChatPromptTemplate(messages=[SystemMessagePromptTemplate.from_template(\"You are a nice chatbot ,understand the user task title and date, rephrase the sentence in correct way like prompt to next llm\"),\n",
    "                                                HumanMessagePromptTemplate.from_template(\"{user_input}\")])\n",
    "layer_1_prompt = LLMChain(llm=llm_model , prompt=beginning_prompt , output_key = \"rephrase\")"
   ]
  },
  {
   "cell_type": "markdown",
   "id": "a1d4d08f",
   "metadata": {},
   "source": [
    "middleware prompts"
   ]
  },
  {
   "cell_type": "code",
   "execution_count": 128,
   "id": "cc8e6990",
   "metadata": {},
   "outputs": [],
   "source": [
    "query_prompt = ChatPromptTemplate(messages=[SystemMessagePromptTemplate.from_template(\"you are a SQL query generator AI., you name is KnotAI,generate the query based on the table schema , tasks title & date .Table name is tasks it has user_email , id.return in JSON object formation key value in 'answer',Remove markdown ```json and extra text after JSON\"),\n",
    "                                            HumanMessagePromptTemplate.from_template(\"{rephrase}\")]) \n",
    "\n",
    "layer_2_prompt = LLMChain(llm=llm_model , prompt=query_prompt , output_key = \"final_output\")"
   ]
  },
  {
   "cell_type": "code",
   "execution_count": null,
   "id": "25ceb9d3",
   "metadata": {},
   "outputs": [
    {
     "name": "stdout",
     "output_type": "stream",
     "text": [
      "{'answer': \"INSERT INTO tasks (user_email, task_name, task_date) VALUES ('your_user_email@example.com', 'jogging', '1212-12-12');\"}\n"
     ]
    }
   ],
   "source": [
    "\n",
    "from langchain_core.output_parsers import SimpleJsonOutputParser\n",
    "\n",
    "parser = SimpleJsonOutputParser()\n",
    "chains = layer_1_prompt | layer_2_prompt  \n",
    "\n",
    "res= chains.invoke(\"Add a task jogging at 12/12/1212\")\n",
    "final_response = parser.parse(res[\"final_output\"])"
   ]
  },
  {
   "cell_type": "code",
   "execution_count": 135,
   "id": "112a47c1",
   "metadata": {},
   "outputs": [
    {
     "name": "stdout",
     "output_type": "stream",
     "text": [
      "{'user_input': 'Add a task jogging at 12/12/1212', 'rephrase': 'Certainly! Here\\'s that task rephrased as a clear instruction for another LLM:\\n\\n**\"Please add \\'jogging\\' to my schedule on December 12th, 1212.\"**', 'final_output': '{\"answer\": \"INSERT INTO tasks (user_email, description, due_date) VALUES (\\'user@example.com\\', \\'jogging\\', \\'1212-12-12\\');\"}'}"
     ]
    }
   ],
   "source": [
    "for i in chains.stream(\"Add a task jogging at 12/12/1212\"):\n",
    "    print(i, end=\"\",flush=True)"
   ]
  },
  {
   "cell_type": "code",
   "execution_count": null,
   "id": "5161522f",
   "metadata": {},
   "outputs": [],
   "source": [
    "                                                                                                                                                                                                                                                                                                                                                                                                                                                                                                                                                                            "
   ]
  }
 ],
 "metadata": {
  "kernelspec": {
   "display_name": "venv (3.11.9)",
   "language": "python",
   "name": "python3"
  },
  "language_info": {
   "codemirror_mode": {
    "name": "ipython",
    "version": 3
   },
   "file_extension": ".py",
   "mimetype": "text/x-python",
   "name": "python",
   "nbconvert_exporter": "python",
   "pygments_lexer": "ipython3",
   "version": "3.11.9"
  }
 },
 "nbformat": 4,
 "nbformat_minor": 5
}
